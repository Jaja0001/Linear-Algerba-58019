{
  "nbformat": 4,
  "nbformat_minor": 0,
  "metadata": {
    "colab": {
      "name": "Prelim Exam.ipynb",
      "provenance": [],
      "authorship_tag": "ABX9TyOuM8dnbQyCaw6LiydRtC/9",
      "include_colab_link": true
    },
    "kernelspec": {
      "name": "python3",
      "display_name": "Python 3"
    },
    "language_info": {
      "name": "python"
    }
  },
  "cells": [
    {
      "cell_type": "markdown",
      "metadata": {
        "id": "view-in-github",
        "colab_type": "text"
      },
      "source": [
        "<a href=\"https://colab.research.google.com/github/JamesSoriano/Linear-Algerba-58019/blob/main/Prelim_Exam.ipynb\" target=\"_parent\"><img src=\"https://colab.research.google.com/assets/colab-badge.svg\" alt=\"Open In Colab\"/></a>"
      ]
    },
    {
      "cell_type": "markdown",
      "metadata": {
        "id": "C7-Q_Yy3jQ6K"
      },
      "source": [
        "#Prelim Exam"
      ]
    },
    {
      "cell_type": "markdown",
      "metadata": {
        "id": "fd8SJATQjLKj"
      },
      "source": [
        "###Question 1"
      ]
    },
    {
      "cell_type": "code",
      "metadata": {
        "colab": {
          "base_uri": "https://localhost:8080/"
        },
        "id": "flq94QWkg53T",
        "outputId": "5c735009-2c49-409f-be0f-8be7eaba3c18"
      },
      "source": [
        "import numpy as np\n",
        "\n",
        "C = np.array(\n",
        "         [[ 1,  0,  0,  0],\n",
        "          [ 0,  1,  0,  0],\n",
        "          [ 0,  0,  1,  0],\n",
        "          [ 0,  0,  0,  1]]\n",
        "            )\n",
        "\n",
        "print(C)"
      ],
      "execution_count": 22,
      "outputs": [
        {
          "output_type": "stream",
          "name": "stdout",
          "text": [
            "[[1 0 0 0]\n",
            " [0 1 0 0]\n",
            " [0 0 1 0]\n",
            " [0 0 0 1]]\n"
          ]
        }
      ]
    },
    {
      "cell_type": "markdown",
      "metadata": {
        "id": "2r-sKmMEj-va"
      },
      "source": [
        "###Question 2"
      ]
    },
    {
      "cell_type": "code",
      "metadata": {
        "colab": {
          "base_uri": "https://localhost:8080/"
        },
        "id": "ZFgT8mQpjIld",
        "outputId": "41a09a00-300d-430b-d57f-276de9130b89"
      },
      "source": [
        "C = np.array(\n",
        "         [[ 1,  0,  0,  0],\n",
        "          [ 0,  1,  0,  0],\n",
        "          [ 0,  0,  1,  0],\n",
        "          [ 0,  0,  0,  1]]\n",
        "            )\n",
        "\n",
        "print(C*2)"
      ],
      "execution_count": 21,
      "outputs": [
        {
          "output_type": "stream",
          "name": "stdout",
          "text": [
            "[[2 0 0 0]\n",
            " [0 2 0 0]\n",
            " [0 0 2 0]\n",
            " [0 0 0 2]]\n"
          ]
        }
      ]
    },
    {
      "cell_type": "markdown",
      "metadata": {
        "id": "8SynMFzVmw8n"
      },
      "source": [
        "###Question 3"
      ]
    },
    {
      "cell_type": "code",
      "metadata": {
        "colab": {
          "base_uri": "https://localhost:8080/"
        },
        "id": "nNUcnspbmy4L",
        "outputId": "6c7fb975-6de0-497d-9ef3-b32c08f9fb73"
      },
      "source": [
        "A = [2,7,4] \n",
        "B = [3,9,8]\n",
        "\n",
        "cross = np.cross(A,B)\n",
        "print(cross)"
      ],
      "execution_count": 20,
      "outputs": [
        {
          "output_type": "stream",
          "name": "stdout",
          "text": [
            "[20 -4 -3]\n"
          ]
        }
      ]
    }
  ]
}