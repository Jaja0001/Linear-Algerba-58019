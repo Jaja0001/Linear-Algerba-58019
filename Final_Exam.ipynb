{
  "nbformat": 4,
  "nbformat_minor": 0,
  "metadata": {
    "colab": {
      "name": "Final Exam",
      "provenance": [],
      "authorship_tag": "ABX9TyOIoDjeKjz6WSIKdGOOB1fl",
      "include_colab_link": true
    },
    "kernelspec": {
      "name": "python3",
      "display_name": "Python 3"
    },
    "language_info": {
      "name": "python"
    }
  },
  "cells": [
    {
      "cell_type": "markdown",
      "metadata": {
        "id": "view-in-github",
        "colab_type": "text"
      },
      "source": [
        "<a href=\"https://colab.research.google.com/github/JamesSoriano/Linear-Algebra-58019/blob/main/Final_Exam.ipynb\" target=\"_parent\"><img src=\"https://colab.research.google.com/assets/colab-badge.svg\" alt=\"Open In Colab\"/></a>"
      ]
    },
    {
      "cell_type": "markdown",
      "source": [
        "#Final Exam"
      ],
      "metadata": {
        "id": "WiH6AslGJbpH"
      }
    },
    {
      "cell_type": "markdown",
      "source": [
        "###Problem 1"
      ],
      "metadata": {
        "id": "8F1jo_lnJbUX"
      }
    },
    {
      "cell_type": "code",
      "source": [
        "import numpy as np\n",
        "A = np.array([[1,1,1],[1,0,4],[0,0,5]]) #creation of Matrix\n",
        "B = np.array([[89],[89],[95]]) #creation of Matrix\n",
        "eql = np.linalg.inv(A).dot(B) #compute using dot product\n",
        "print(eql) #to print or display"
      ],
      "metadata": {
        "colab": {
          "base_uri": "https://localhost:8080/"
        },
        "id": "gwOBiUjgJbNF",
        "outputId": "ed63c5e3-cf33-446f-e0a3-a4e091884668"
      },
      "execution_count": 35,
      "outputs": [
        {
          "output_type": "stream",
          "name": "stdout",
          "text": [
            "[[13.]\n",
            " [57.]\n",
            " [19.]]\n"
          ]
        }
      ]
    },
    {
      "cell_type": "markdown",
      "source": [
        "###Problem 2"
      ],
      "metadata": {
        "id": "RZl8YLLTJa8c"
      }
    },
    {
      "cell_type": "code",
      "source": [
        "import numpy as np\n",
        "\n",
        "A = np.array([[3,-1,1],[9,-3,3],[-12,4,-4]]) #creation of Matrix\n",
        "print(A,\"\\n\") #to print or display\n",
        "\n",
        "inv_A = np.linalg.pinv(A) #inverse the given matrix\n",
        "###If I use np.linalg.inv the code would get an error message that it is a singular matrix\n",
        "###That is why I use pinv to get the approximate initial matrix so the code will run\n",
        "\n",
        "print(inv_A,\"\\n\") #to print or display\n",
        "B = np.array([[5],[15],[-20]]) #creation of Matrix\n",
        "print(B,\"\\n\") #to print or display\n",
        "X = np.dot(inv_A,B) #use the dot product method\n",
        "print(X) #to print or display"
      ],
      "metadata": {
        "colab": {
          "base_uri": "https://localhost:8080/"
        },
        "id": "ZvnOCg1lJam5",
        "outputId": "bf3f387c-8268-4db8-9fd2-eaf354c014c8"
      },
      "execution_count": 38,
      "outputs": [
        {
          "output_type": "stream",
          "name": "stdout",
          "text": [
            "[[  3  -1   1]\n",
            " [  9  -3   3]\n",
            " [-12   4  -4]] \n",
            "\n",
            "[[ 0.01048951  0.03146853 -0.04195804]\n",
            " [-0.0034965  -0.01048951  0.01398601]\n",
            " [ 0.0034965   0.01048951 -0.01398601]] \n",
            "\n",
            "[[  5]\n",
            " [ 15]\n",
            " [-20]] \n",
            "\n",
            "[[ 1.36363636]\n",
            " [-0.45454545]\n",
            " [ 0.45454545]]\n"
          ]
        }
      ]
    },
    {
      "cell_type": "markdown",
      "source": [
        "###Problem 3"
      ],
      "metadata": {
        "id": "5FYuoE_pHBnH"
      }
    },
    {
      "cell_type": "code",
      "execution_count": 11,
      "metadata": {
        "colab": {
          "base_uri": "https://localhost:8080/"
        },
        "id": "E8IpLnrvGrI4",
        "outputId": "f6f9243e-641b-4a4e-ebc7-5dd1a7e8bf89"
      },
      "outputs": [
        {
          "output_type": "stream",
          "name": "stdout",
          "text": [
            "[[  8   5  -6]\n",
            " [-12  -9  12]\n",
            " [ -3  -3   5]] \n",
            "\n",
            "The eigenvalues are: \n",
            " [-1.  3.  2.]\n",
            "The eigenvectors are: \n",
            " [[ 0. -1.  1.]\n",
            " [-1.  1.  0.]\n",
            " [-0. -0.  1.]]\n"
          ]
        }
      ],
      "source": [
        "import numpy as np \n",
        "from numpy.linalg import eig\n",
        "\n",
        "A = np.array([[8,5,-6],[-12,-9,12],[-3,-3,5]]) #creation of Matrix\n",
        "print(A,\"\\n\") #to print or display\n",
        "w,v = np.linalg.eig(A) #Compute eigenvalues and right eigenvectors of a square array\n",
        "\n",
        "print(\"The eigenvalues are: \\n\",w) #to print or display\n",
        "print(\"The eigenvectors are: \\n\",v.round()) #to print or display"
      ]
    }
  ]
}