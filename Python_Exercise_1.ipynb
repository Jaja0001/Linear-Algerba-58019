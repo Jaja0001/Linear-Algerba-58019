{
  "nbformat": 4,
  "nbformat_minor": 0,
  "metadata": {
    "colab": {
      "name": "Python Exercise 1",
      "provenance": [],
      "authorship_tag": "ABX9TyOuzlgXeTGstWnLAg3AibCT",
      "include_colab_link": true
    },
    "kernelspec": {
      "name": "python3",
      "display_name": "Python 3"
    },
    "language_info": {
      "name": "python"
    }
  },
  "cells": [
    {
      "cell_type": "markdown",
      "metadata": {
        "id": "view-in-github",
        "colab_type": "text"
      },
      "source": [
        "<a href=\"https://colab.research.google.com/github/Jaja0001/Linear-Algerba-58019/blob/main/Python_Exercise_1.ipynb\" target=\"_parent\"><img src=\"https://colab.research.google.com/assets/colab-badge.svg\" alt=\"Open In Colab\"/></a>"
      ]
    },
    {
      "cell_type": "markdown",
      "metadata": {
        "id": "2vRkTpEW796S"
      },
      "source": [
        "#Matrix and Its Operations"
      ]
    },
    {
      "cell_type": "code",
      "metadata": {
        "colab": {
          "base_uri": "https://localhost:8080/"
        },
        "id": "zC2iJrkc78YE",
        "outputId": "ac6e23f4-35f7-4010-e45a-eb484c18000f"
      },
      "source": [
        "#numpy\n",
        "import numpy as np\n",
        "print(\"A=\")\n",
        "A = np.array([[-5,0],[4,1]])\n",
        "print(A)\n",
        "print()\n",
        "print(\"B=\")\n",
        "B = np.array([[6,-3],[2,3]])\n",
        "print(B)\n",
        "print()\n",
        "print(\"A+B=\")\n",
        "print(A+B)\n",
        "print()\n",
        "print(\"B-A=\")\n",
        "print(B-A)\n",
        "print()\n",
        "print(\"A-B=\")\n",
        "print(A-B)"
      ],
      "execution_count": 28,
      "outputs": [
        {
          "output_type": "stream",
          "name": "stdout",
          "text": [
            "A=\n",
            "[[-5  0]\n",
            " [ 4  1]]\n",
            "\n",
            "B=\n",
            "[[ 6 -3]\n",
            " [ 2  3]]\n",
            "\n",
            "A+B=\n",
            "[[ 1 -3]\n",
            " [ 6  4]]\n",
            "\n",
            "B-A=\n",
            "[[11 -3]\n",
            " [-2  2]]\n",
            "\n",
            "A-B=\n",
            "[[-11   3]\n",
            " [  2  -2]]\n"
          ]
        }
      ]
    }
  ]
}