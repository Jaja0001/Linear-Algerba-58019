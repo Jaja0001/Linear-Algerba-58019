{
  "cells": [
    {
      "cell_type": "markdown",
      "metadata": {
        "id": "view-in-github",
        "colab_type": "text"
      },
      "source": [
        "<a href=\"https://colab.research.google.com/github/JamesSoriano/Linear-Algebra-58019/blob/main/SORIANO_DSP_Problem_Set.ipynb\" target=\"_parent\"><img src=\"https://colab.research.google.com/assets/colab-badge.svg\" alt=\"Open In Colab\"/></a>"
      ]
    },
    {
      "cell_type": "markdown",
      "source": [
        "SORIANO, JAMES HARRY H."
      ],
      "metadata": {
        "id": "LNsmkhqFgVIo"
      }
    },
    {
      "cell_type": "markdown",
      "metadata": {
        "id": "W5JZWm5wJadP"
      },
      "source": [
        "PART 1"
      ]
    },
    {
      "cell_type": "code",
      "execution_count": 209,
      "metadata": {
        "id": "K8AwwCGA3DdQ"
      },
      "outputs": [],
      "source": [
        "import numpy as np\n",
        "import matplotlib.pyplot as plt\n",
        "\n",
        "sqrt2 = np.sqrt(2)\n",
        "\n",
        "# Matrix H\n",
        "H = (1 / sqrt2) * np.array([[1, 1], [1, -1]])\n",
        "\n",
        "# Matrix Y\n",
        "Y = 1j * np.array([[0, -1], [1, 0]])\n",
        "\n",
        "# Matrix O\n",
        "O = np.array([[1, 0], [1, 1]])\n",
        "\n",
        "# Plot\n",
        "def p(vectors, transformation_matrix=np.eye(2)):\n",
        "    transformed_vectors = vectors @ transformation_matrix\n",
        "    plot_size = (2, 2)\n",
        "\n",
        "    plt.figure(figsize=(4, 4))\n",
        "    plt.quiver([0, 0], [0, 0], transformed_vectors[0, :], transformed_vectors[1, :],\n",
        "               angles='xy', scale_units='xy', scale=1,\n",
        "               color=['green', 'yellow'])\n",
        "\n",
        "    plt.xlim(-plot_size[0], plot_size[0])\n",
        "    plt.ylim(-plot_size[1], plot_size[1])\n",
        "    plt.xticks(np.arange(-plot_size[0], plot_size[0] + 1, 1.0))\n",
        "    plt.yticks(np.arange(-plot_size[1], plot_size[1] + 1, 1.0))\n",
        "\n",
        "    plt.grid()\n",
        "    plt.show()"
      ]
    },
    {
      "cell_type": "markdown",
      "metadata": {
        "id": "RNrtTVrdJrod"
      },
      "source": [
        "Number 1"
      ]
    },
    {
      "cell_type": "code",
      "execution_count": 210,
      "metadata": {
        "colab": {
          "base_uri": "https://localhost:8080/",
          "height": 495
        },
        "id": "Y78X1ZO0Jmp9",
        "outputId": "8350bcff-a01e-4db5-96ef-b2a1f18353df"
      },
      "outputs": [
        {
          "output_type": "stream",
          "name": "stdout",
          "text": [
            "[[0.+1.j 0.-1.j]\n",
            " [0.-1.j 0.-1.j]]\n",
            "\n",
            "Vector Norm: 1.41\n",
            "\n",
            "Angle:  [[ 90. -90.]\n",
            " [-90. -90.]]\n"
          ]
        },
        {
          "output_type": "display_data",
          "data": {
            "text/plain": [
              "<Figure size 400x400 with 1 Axes>"
            ],
            "image/png": "[encoded data removed]"
          },
          "metadata": {}
        }
      ],
      "source": [
        "x1 = np.round(np.dot(H, Y))\n",
        "\n",
        "vector = np.linalg.norm(x1, ord=2)\n",
        "ang1 = np.angle(x1, deg = True)\n",
        "\n",
        "print(x1)\n",
        "print(\"\\nVector Norm:\", round(vector, 2))\n",
        "print(\"\\nAngle: \",ang1)\n",
        "p(np.imag(x1))"
      ]
    },
    {
      "cell_type": "markdown",
      "metadata": {
        "id": "PTeTvVbEKqSz"
      },
      "source": [
        "Number 2"
      ]
    },
    {
      "cell_type": "code",
      "execution_count": 211,
      "metadata": {
        "colab": {
          "base_uri": "https://localhost:8080/",
          "height": 495
        },
        "id": "VKtHu5JkKqmp",
        "outputId": "8b2b5d38-5fd4-45b5-e214-753442be7cc9"
      },
      "outputs": [
        {
          "output_type": "stream",
          "name": "stdout",
          "text": [
            "[[0.-1.j 0.+1.j]\n",
            " [0.+1.j 0.+1.j]]\n",
            "\n",
            "Vector Norm: 1.41\n",
            "\n",
            "Angle:  [[-90.  90.]\n",
            " [ 90.  90.]]\n"
          ]
        },
        {
          "output_type": "display_data",
          "data": {
            "text/plain": [
              "<Figure size 400x400 with 1 Axes>"
            ],
            "image/png": "[encoded data removed]"
          },
          "metadata": {}
        }
      ],
      "source": [
        "x2 = np.round(np.dot(Y, H))\n",
        "\n",
        "vector = np.linalg.norm(x2, ord=2)\n",
        "angle = np.angle(x2, deg = True)\n",
        "\n",
        "print(x2)\n",
        "print(\"\\nVector Norm:\", round(vector, 2))\n",
        "print(\"\\nAngle: \",angle)\n",
        "p(np.imag(x2))"
      ]
    },
    {
      "cell_type": "markdown",
      "metadata": {
        "id": "_36PEJWnKrZE"
      },
      "source": [
        "Number 3"
      ]
    },
    {
      "cell_type": "code",
      "execution_count": 212,
      "metadata": {
        "colab": {
          "base_uri": "https://localhost:8080/",
          "height": 495
        },
        "id": "O2V06TNqKrjo",
        "outputId": "63f9a271-663e-4808-ece8-cb2d81f0d319"
      },
      "outputs": [
        {
          "output_type": "stream",
          "name": "stdout",
          "text": [
            "[[ 1. -0.]\n",
            " [-0.  1.]]\n",
            "\n",
            "Vector Norm: 1.0\n",
            "\n",
            "Angle:  [[  0. 180.]\n",
            " [180.   0.]]\n"
          ]
        },
        {
          "output_type": "display_data",
          "data": {
            "text/plain": [
              "<Figure size 400x400 with 1 Axes>"
            ],
            "image/png": "[encoded data removed]"
          },
          "metadata": {}
        }
      ],
      "source": [
        "x3 = np.round(np.dot(H, H))\n",
        "\n",
        "vector = np.linalg.norm(x3, ord=2)\n",
        "angle = np.angle(x3, deg = True)\n",
        "\n",
        "print(x3)\n",
        "print(\"\\nVector Norm:\", round(vector, 2))\n",
        "print(\"\\nAngle: \",angle)\n",
        "p(x3)"
      ]
    },
    {
      "cell_type": "markdown",
      "metadata": {
        "id": "k9JnIuCbKru7"
      },
      "source": [
        "Number 4"
      ]
    },
    {
      "cell_type": "code",
      "execution_count": 213,
      "metadata": {
        "colab": {
          "base_uri": "https://localhost:8080/",
          "height": 495
        },
        "id": "JDckdOXuKr3H",
        "outputId": "64190ecf-13aa-4ed1-9e21-96ad5ad1e540"
      },
      "outputs": [
        {
          "output_type": "stream",
          "name": "stdout",
          "text": [
            "[[0.+0.j 0.+1.j]\n",
            " [0.+1.j 0.+1.j]]\n",
            "\n",
            "Vector Norm: 1.62\n",
            "\n",
            "Angle:  [[ 0. 90.]\n",
            " [90. 90.]]\n"
          ]
        },
        {
          "output_type": "display_data",
          "data": {
            "text/plain": [
              "<Figure size 400x400 with 1 Axes>"
            ],
            "image/png": "[encoded data removed]"
          },
          "metadata": {}
        }
      ],
      "source": [
        "x4 = np.round(np.dot(np.dot(Y, H), O))\n",
        "\n",
        "vector = np.linalg.norm(x4, ord=2)\n",
        "angle = np.angle(x4, deg = True)\n",
        "\n",
        "print(x4)\n",
        "print(\"\\nVector Norm:\", round(vector, 2))\n",
        "print(\"\\nAngle: \",angle)\n",
        "p(np.imag(x4))"
      ]
    },
    {
      "cell_type": "markdown",
      "metadata": {
        "id": "EvbhVGr3KsAH"
      },
      "source": [
        "Number 5"
      ]
    },
    {
      "cell_type": "code",
      "execution_count": 214,
      "metadata": {
        "colab": {
          "base_uri": "https://localhost:8080/",
          "height": 495
        },
        "id": "9_RTAiRPKsNp",
        "outputId": "a39ca464-5d4d-45f2-ad9c-959dbd3c89d8"
      },
      "outputs": [
        {
          "output_type": "stream",
          "name": "stdout",
          "text": [
            "[[0.+1.j 0.+1.j]\n",
            " [0.-1.j 0.+0.j]]\n",
            "\n",
            "Vector Norm: 1.62\n",
            "\n",
            "Angle:  [[ 90.  90.]\n",
            " [-90.   0.]]\n"
          ]
        },
        {
          "output_type": "display_data",
          "data": {
            "text/plain": [
              "<Figure size 400x400 with 1 Axes>"
            ],
            "image/png": "[encoded data removed]"
          },
          "metadata": {}
        }
      ],
      "source": [
        "x5 = np.round(np.dot(np.dot(np.dot(H, Y), H), O))\n",
        "\n",
        "vector = np.linalg.norm(x5, ord=2)\n",
        "angle = np.angle(x5, deg = True)\n",
        "\n",
        "print(x5)\n",
        "print(\"\\nVector Norm:\", round(vector, 2))\n",
        "print(\"\\nAngle: \",angle)\n",
        "p(np.imag(x5))"
      ]
    },
    {
      "cell_type": "markdown",
      "metadata": {
        "id": "H00cEsefZ-q9"
      },
      "source": [
        "PART 2"
      ]
    },
    {
      "cell_type": "markdown",
      "metadata": {
        "id": "uZAC1by8aH1u"
      },
      "source": [
        "Determinant of H"
      ]
    },
    {
      "cell_type": "code",
      "execution_count": 215,
      "metadata": {
        "colab": {
          "base_uri": "https://localhost:8080/",
          "height": 0
        },
        "id": "6TkLFMhbaArj",
        "outputId": "3e7541ac-214d-433b-ebf7-ad532fc1e26c"
      },
      "outputs": [
        {
          "output_type": "stream",
          "name": "stdout",
          "text": [
            "Determinant of H: -0.9999999999999999\n"
          ]
        }
      ],
      "source": [
        "det_H = np.linalg.det(H)\n",
        "print(\"Determinant of H:\", det_H)"
      ]
    },
    {
      "cell_type": "markdown",
      "metadata": {
        "id": "WdZDJ8iaaJtJ"
      },
      "source": [
        "Determinant of Y"
      ]
    },
    {
      "cell_type": "code",
      "execution_count": 216,
      "metadata": {
        "colab": {
          "base_uri": "https://localhost:8080/",
          "height": 0
        },
        "id": "BZ1usPPUaOLS",
        "outputId": "be365aec-0cef-4e90-e075-fa450613ad6d"
      },
      "outputs": [
        {
          "output_type": "stream",
          "name": "stdout",
          "text": [
            "Determinant of Y: (-1+0j)\n"
          ]
        }
      ],
      "source": [
        "det_Y = np.linalg.det(Y)\n",
        "print(\"Determinant of Y:\", det_Y)"
      ]
    },
    {
      "cell_type": "markdown",
      "metadata": {
        "id": "cbExujr_agv_"
      },
      "source": [
        "PART 3"
      ]
    },
    {
      "cell_type": "markdown",
      "metadata": {
        "id": "Rd9Lc7Z1ayaS"
      },
      "source": [
        "Number 1"
      ]
    },
    {
      "cell_type": "code",
      "execution_count": 217,
      "metadata": {
        "colab": {
          "base_uri": "https://localhost:8080/",
          "height": 0
        },
        "id": "F3VMPQPFaxZy",
        "outputId": "83cd8f44-3e56-44d7-cb5a-fd9333f77199"
      },
      "outputs": [
        {
          "output_type": "stream",
          "name": "stdout",
          "text": [
            "[[ 5  0 25]\n",
            " [10 35 30]\n",
            " [30 20 35]]\n",
            "\n",
            "Determinant of the result matrix: -18124.99999999999\n"
          ]
        }
      ],
      "source": [
        "matrix1 = np.array([\n",
        "    [5, 0, 0],\n",
        "    [0, 5, 0],\n",
        "    [0, 0, 5]\n",
        "])\n",
        "\n",
        "matrix2 = np.array([\n",
        "    [1, 0, 5],\n",
        "    [2, 7, 6],\n",
        "    [6, 4, 7]\n",
        "])\n",
        "\n",
        "result_matrix = np.dot(matrix1, matrix2)\n",
        "det_result = np.linalg.det(result_matrix)\n",
        "\n",
        "print(result_matrix)\n",
        "print(\"\\nDeterminant of the result matrix:\", det_result)"
      ]
    },
    {
      "cell_type": "markdown",
      "metadata": {
        "id": "XLIseJCxazbC"
      },
      "source": [
        "Number 2"
      ]
    },
    {
      "cell_type": "code",
      "execution_count": 218,
      "metadata": {
        "colab": {
          "base_uri": "https://localhost:8080/",
          "height": 0
        },
        "id": "lKBej0VUaztp",
        "outputId": "45b956e1-2586-4f77-dc73-8dfb92f0b687"
      },
      "outputs": [
        {
          "output_type": "stream",
          "name": "stdout",
          "text": [
            "[[ 17  12  18]\n",
            " [105  40  76]\n",
            " [ 70  27  51]]\n",
            "\n",
            "Determinant of the result matrix: 6.000000000001367\n"
          ]
        }
      ],
      "source": [
        "matrix3 = np.array([\n",
        "    [1, 2, 6],\n",
        "    [3, 15, 4],\n",
        "    [2, 10, 3]\n",
        "])\n",
        "\n",
        "matrix4 = np.array([\n",
        "    [5, 2, 4],\n",
        "    [6, 2, 4],\n",
        "    [0, 1, 1]\n",
        "])\n",
        "\n",
        "result_matrix = np.dot(matrix3, matrix4)\n",
        "det_result = np.linalg.det(result_matrix)\n",
        "\n",
        "print(result_matrix)\n",
        "print(\"\\nDeterminant of the result matrix:\", det_result)"
      ]
    },
    {
      "cell_type": "markdown",
      "metadata": {
        "id": "WFM-PtS3NP5I"
      },
      "source": [
        "PART 4"
      ]
    },
    {
      "cell_type": "code",
      "execution_count": 219,
      "metadata": {
        "colab": {
          "base_uri": "https://localhost:8080/",
          "height": 472
        },
        "id": "73z9RbgXNZOy",
        "outputId": "e790548c-fae8-4f2a-9bf8-bbb485e6e523"
      },
      "outputs": [
        {
          "output_type": "display_data",
          "data": {
            "text/plain": [
              "<Figure size 640x480 with 1 Axes>"
            ],
            "image/png": "[encoded data removed]"
          },
          "metadata": {}
        }
      ],
      "source": [
        "T = np.array([0, np.pi/4, np.pi/2, 3*np.pi/4, np.pi])\n",
        "G = np.array([5, 3, 0, -3, 5])\n",
        "\n",
        "# Create a figure and axis\n",
        "fig, ax = plt.subplots()\n",
        "ax.plot(T, G, 'ro-', markersize=8, label='Amplitude', linewidth=2)\n",
        "ax.set_title('Signal of Time (T) and Amplitude (G)')\n",
        "ax.set_xlabel('Time')\n",
        "ax.set_ylabel('Amplitude')\n",
        "ax.grid(True)\n",
        "ax.legend()\n",
        "\n",
        "plt.show()"
      ]
    }
  ],
  "metadata": {
    "colab": {
      "provenance": [],
      "authorship_tag": "ABX9TyOzBHOD46bWi/e/E40/mdOj",
      "include_colab_link": true
    },
    "kernelspec": {
      "display_name": "Python 3",
      "name": "python3"
    },
    "language_info": {
      "name": "python"
    }
  },
  "nbformat": 4,
  "nbformat_minor": 0
}