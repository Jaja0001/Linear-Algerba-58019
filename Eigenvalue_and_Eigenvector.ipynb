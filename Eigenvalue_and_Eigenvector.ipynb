{
  "nbformat": 4,
  "nbformat_minor": 0,
  "metadata": {
    "colab": {
      "name": "Eigenvalue and Eigenvector",
      "provenance": [],
      "authorship_tag": "ABX9TyOJvhFJ+3Umzkqg//d4e+bb",
      "include_colab_link": true
    },
    "kernelspec": {
      "name": "python3",
      "display_name": "Python 3"
    },
    "language_info": {
      "name": "python"
    }
  },
  "cells": [
    {
      "cell_type": "markdown",
      "metadata": {
        "id": "view-in-github",
        "colab_type": "text"
      },
      "source": [
        "<a href=\"https://colab.research.google.com/github/JamesSoriano/Linear-Algebra-58019/blob/main/Eigenvalue_and_Eigenvector.ipynb\" target=\"_parent\"><img src=\"https://colab.research.google.com/assets/colab-badge.svg\" alt=\"Open In Colab\"/></a>"
      ]
    },
    {
      "cell_type": "code",
      "execution_count": 1,
      "metadata": {
        "colab": {
          "base_uri": "https://localhost:8080/"
        },
        "id": "ZklbqDbKktVA",
        "outputId": "068f09c2-787a-4d71-b13f-04b178dff753"
      },
      "outputs": [
        {
          "output_type": "stream",
          "name": "stdout",
          "text": [
            "[[-12   3]\n",
            " [  4   1]]\n",
            "[[-0.04166667  0.125     ]\n",
            " [ 0.16666667  0.5       ]]\n",
            "[[0]\n",
            " [0]]\n",
            "[[0.]\n",
            " [0.]]\n"
          ]
        }
      ],
      "source": [
        "import numpy as np #Import Library\n",
        "from numpy.linalg import eig\n",
        "\n",
        "A = np.array([[-12,3],[4,1]]) #Creation of Matrix\n",
        "print(A) #to print or display\n",
        "\n",
        "inv_A = np.linalg.inv(A) #to inverse matrix A\n",
        "print(inv_A) #to print or display\n",
        "\n",
        "B = np.array([[0],[0]]) #Creation of Matrix B\n",
        "print(B)\n",
        "\n",
        "X = np.dot(inv_A,B) #dot product\n",
        "print(X) #to print or display\n",
        "#X = solve(A,B)\n",
        "#print(X)"
      ]
    },
    {
      "cell_type": "markdown",
      "source": [
        "##Example 1\n"
      ],
      "metadata": {
        "id": "Ie7HqaNXk0hL"
      }
    },
    {
      "cell_type": "code",
      "source": [
        "A = np.array([[-6,3],[4,5]]) #creation of Matrix\n",
        "print(A) #to print or display\n",
        "\n",
        "w,v = np.linalg.eig(A) #Compute eigenvalues and right eigenvectors of a square array\n",
        "#to print or display\n",
        "print(\"The eigenvalue/s is/are:\",w)\n",
        "print(\"The right eigenvectors are:\",v)\n",
        "#x = v.round()\n",
        "#print(x)"
      ],
      "metadata": {
        "colab": {
          "base_uri": "https://localhost:8080/"
        },
        "id": "1fXFq6ISkxSt",
        "outputId": "586e9818-f4f5-430f-c073-fb6e074a7bc8"
      },
      "execution_count": 2,
      "outputs": [
        {
          "output_type": "stream",
          "name": "stdout",
          "text": [
            "[[-6  3]\n",
            " [ 4  5]]\n",
            "The eigenvalue/s is/are: [-7.  6.]\n",
            "The right eigenvectors are: [[-0.9486833  -0.24253563]\n",
            " [ 0.31622777 -0.9701425 ]]\n"
          ]
        }
      ]
    },
    {
      "cell_type": "markdown",
      "source": [
        "##Example 2\n"
      ],
      "metadata": {
        "id": "UtAdhoX_k1Am"
      }
    },
    {
      "cell_type": "code",
      "source": [
        "A = np.array([[2,2,4],[1,3,5],[2,3,4]]) #Creation of Matrix A\n",
        "print(A) #to print or display\n",
        "s,t = np.linalg.eig(A) #Compute eigenvalues and right eigenvectors of a square array\n",
        "print(s.round())\n",
        "print(t.round())\n",
        "c = np.dot(A,t.round()) #dot product of A and t\n",
        "print(c)"
      ],
      "metadata": {
        "colab": {
          "base_uri": "https://localhost:8080/"
        },
        "id": "gI8TEEvEkygE",
        "outputId": "470659ba-203d-485a-ab80-ba221ba4442c"
      },
      "execution_count": 3,
      "outputs": [
        {
          "output_type": "stream",
          "name": "stdout",
          "text": [
            "[[2 2 4]\n",
            " [1 3 5]\n",
            " [2 3 4]]\n",
            "[ 9.  1. -1.]\n",
            "[[-1. -1. -0.]\n",
            " [-1.  1. -1.]\n",
            " [-1. -0.  1.]]\n",
            "[[-8.  0.  2.]\n",
            " [-9.  2.  2.]\n",
            " [-9.  1.  1.]]\n"
          ]
        }
      ]
    }
  ]
}