{
  "nbformat": 4,
  "nbformat_minor": 0,
  "metadata": {
    "colab": {
      "name": "Practical Lab Exam 1.ipynb",
      "provenance": [],
      "authorship_tag": "ABX9TyPN95QF1irXaKmnC7+JhDu0",
      "include_colab_link": true
    },
    "kernelspec": {
      "name": "python3",
      "display_name": "Python 3"
    },
    "language_info": {
      "name": "python"
    }
  },
  "cells": [
    {
      "cell_type": "markdown",
      "metadata": {
        "id": "view-in-github",
        "colab_type": "text"
      },
      "source": [
        "<a href=\"https://colab.research.google.com/github/JamesSoriano/Linear-Algerba-58019/blob/main/Practical_Lab_Exam_1.ipynb\" target=\"_parent\"><img src=\"https://colab.research.google.com/assets/colab-badge.svg\" alt=\"Open In Colab\"/></a>"
      ]
    },
    {
      "cell_type": "markdown",
      "metadata": {
        "id": "sjtA3hR30Wxm"
      },
      "source": [
        "#Practical Lab Exam 1"
      ]
    },
    {
      "cell_type": "markdown",
      "metadata": {
        "id": "Zs8K_Vpc5bCP"
      },
      "source": [
        "##Problem 1"
      ]
    },
    {
      "cell_type": "code",
      "metadata": {
        "colab": {
          "base_uri": "https://localhost:8080/"
        },
        "id": "UZq22jTbltO_",
        "outputId": "bc460713-2a66-4103-d237-3abecf8eb6c4"
      },
      "source": [
        "import numpy as np\n",
        "\n",
        "A = np.array([[1,2,3],[4,5,6]])\n",
        "B = np.array([[1,2,],[3,4,],[5,6,]])\n",
        "C = np.array([[1,2,3],[4,5,6],[7,8,9]])\n",
        "D = np.array([[1,2,],[3,4,]])\n",
        "print(\"A=\\n\",A)\n",
        "print()\n",
        "print(\"B=\\n\",B)\n",
        "print()\n",
        "print(\"C=\\n\",C)\n",
        "print()\n",
        "print(\"D=\\n\",D)\n",
        "print()\n",
        "dot = np.dot(A,B)\n",
        "print(\"a.\\n\",dot)\n",
        "print()\n",
        "print(\"b.\\n\",D+D)\n",
        "print()\n",
        "multiply = 2*(C)\n",
        "print(\"c.\\n\",multiply)\n"
      ],
      "execution_count": null,
      "outputs": [
        {
          "output_type": "stream",
          "name": "stdout",
          "text": [
            "A=\n",
            " [[1 2 3]\n",
            " [4 5 6]]\n",
            "\n",
            "B=\n",
            " [[1 2]\n",
            " [3 4]\n",
            " [5 6]]\n",
            "\n",
            "C=\n",
            " [[1 2 3]\n",
            " [4 5 6]\n",
            " [7 8 9]]\n",
            "\n",
            "D=\n",
            " [[1 2]\n",
            " [3 4]]\n",
            "\n",
            "a.\n",
            " [[22 28]\n",
            " [49 64]]\n",
            "\n",
            "b.\n",
            " [[2 4]\n",
            " [6 8]]\n",
            "\n",
            "c.\n",
            " [[ 2  4  6]\n",
            " [ 8 10 12]\n",
            " [14 16 18]]\n"
          ]
        }
      ]
    },
    {
      "cell_type": "markdown",
      "metadata": {
        "id": "U60QVcxE5eBi"
      },
      "source": [
        "##Problem 2"
      ]
    },
    {
      "cell_type": "code",
      "metadata": {
        "colab": {
          "base_uri": "https://localhost:8080/"
        },
        "id": "DmQ6goNVtuFZ",
        "outputId": "d14a889b-c730-455f-affe-6124af61d88a"
      },
      "source": [
        "import numpy as np\n",
        "A = np.array([5, 3, -1])\n",
        "\n",
        "print('Size of array:', A.size)\n",
        "print('Type of array:', type(A))\n",
        "print('Shape of array:', A.shape)\n",
        "print('Dimension of array:', A.ndim)\n",
        "\n"
      ],
      "execution_count": 2,
      "outputs": [
        {
          "output_type": "stream",
          "name": "stdout",
          "text": [
            "Size of array: 3\n",
            "Type of array: <class 'numpy.ndarray'>\n",
            "Shape of array: (3,)\n",
            "Dimension of array: 1\n"
          ]
        }
      ]
    }
  ]
}