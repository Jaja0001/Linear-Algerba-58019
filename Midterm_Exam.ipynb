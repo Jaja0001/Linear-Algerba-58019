{
  "nbformat": 4,
  "nbformat_minor": 0,
  "metadata": {
    "colab": {
      "name": "Midterm Exam",
      "provenance": [],
      "authorship_tag": "ABX9TyNC/RJCpFuWEDGbSAz6THFn",
      "include_colab_link": true
    },
    "kernelspec": {
      "name": "python3",
      "display_name": "Python 3"
    },
    "language_info": {
      "name": "python"
    }
  },
  "cells": [
    {
      "cell_type": "markdown",
      "metadata": {
        "id": "view-in-github",
        "colab_type": "text"
      },
      "source": [
        "<a href=\"https://colab.research.google.com/github/JamesSoriano/Linear-Algebra-58019/blob/main/Midterm_Exam.ipynb\" target=\"_parent\"><img src=\"https://colab.research.google.com/assets/colab-badge.svg\" alt=\"Open In Colab\"/></a>"
      ]
    },
    {
      "cell_type": "markdown",
      "metadata": {
        "id": "vxsFf5da5VPp"
      },
      "source": [
        "#Midterm Exam"
      ]
    },
    {
      "cell_type": "markdown",
      "metadata": {
        "id": "3rFLKRRh6Id8"
      },
      "source": [
        "###Question 1"
      ]
    },
    {
      "cell_type": "code",
      "metadata": {
        "colab": {
          "base_uri": "https://localhost:8080/"
        },
        "id": "KYXDkPkV5OF6",
        "outputId": "9ab76076-5f13-4e6e-da05-52269307c15b"
      },
      "source": [
        "import numpy as np\n",
        "#Create the square matrix whose length is 5\n",
        "A = np.array([[1,2,3,4,5],[6,7,8,9,10],[11,12,13,14,15],[16,17,18,19,20],[21,22,23,24,25]])\n",
        "print(C)"
      ],
      "execution_count": 6,
      "outputs": [
        {
          "output_type": "stream",
          "name": "stdout",
          "text": [
            "[[ 1  2  3  4  5]\n",
            " [ 6  7  8  9 10]\n",
            " [11 12 13 14 15]\n",
            " [16 17 18 19 20]\n",
            " [21 22 23 24 25]]\n"
          ]
        }
      ]
    },
    {
      "cell_type": "markdown",
      "metadata": {
        "id": "7SmJx7KI6LnY"
      },
      "source": [
        "###Question 2"
      ]
    },
    {
      "cell_type": "code",
      "metadata": {
        "colab": {
          "base_uri": "https://localhost:8080/"
        },
        "id": "9FtaNlTs6NyJ",
        "outputId": "570f70f5-70bf-489a-83e8-e18358ae40be"
      },
      "source": [
        "#To make the elements below principal diagonal zero\n",
        "B = np.triu([[1,2,3,4,5],[6,7,8,9,10],[11,12,13,14,15],[16,17,18,19,20],[21,22,23,24,25]])\n",
        "print(B)"
      ],
      "execution_count": 34,
      "outputs": [
        {
          "output_type": "stream",
          "name": "stdout",
          "text": [
            "[[ 1  2  3  4  5]\n",
            " [ 0  7  8  9 10]\n",
            " [ 0  0 13 14 15]\n",
            " [ 0  0  0 19 20]\n",
            " [ 0  0  0  0 25]]\n"
          ]
        }
      ]
    },
    {
      "cell_type": "markdown",
      "metadata": {
        "id": "86cJvIjG7TTu"
      },
      "source": [
        "###Question 3"
      ]
    },
    {
      "cell_type": "code",
      "metadata": {
        "colab": {
          "base_uri": "https://localhost:8080/"
        },
        "id": "IFEnaxTy7Y04",
        "outputId": "c324bb88-cc85-4b9b-d24e-03c264775116"
      },
      "source": [
        "#Create a symmetrical matrix\n",
        "G = np.array([[1,2,3,4,5],[2,1,2,3,4],[3,2,1,2,3],[4,3,2,1,2],[5,4,3,2,1]])\n",
        "print(G)"
      ],
      "execution_count": 40,
      "outputs": [
        {
          "output_type": "stream",
          "name": "stdout",
          "text": [
            "[[1 2 3 4 5]\n",
            " [2 1 2 3 4]\n",
            " [3 2 1 2 3]\n",
            " [4 3 2 1 2]\n",
            " [5 4 3 2 1]]\n"
          ]
        }
      ]
    },
    {
      "cell_type": "markdown",
      "metadata": {
        "id": "xZcvwOpR7ZHE"
      },
      "source": [
        "###Question 4"
      ]
    },
    {
      "cell_type": "code",
      "metadata": {
        "colab": {
          "base_uri": "https://localhost:8080/"
        },
        "id": "0vT1E36D7azN",
        "outputId": "f4a4ba17-e100-4612-e69c-364740bb043d"
      },
      "source": [
        "#Matrix 3x3\n",
        "C = np.array ([[1,2,3],\n",
        "               [2,3,3],\n",
        "               [3,4,-2]])\n",
        "\n",
        "#To inverse the matrix\n",
        "invC = np.linalg.inv(C)\n",
        "\n",
        "print(\"The inverse matrix: \\n\")\n",
        "print(invC)"
      ],
      "execution_count": 16,
      "outputs": [
        {
          "output_type": "stream",
          "name": "stdout",
          "text": [
            "The inverse matrix: \n",
            "\n",
            "[[-3.6  3.2 -0.6]\n",
            " [ 2.6 -2.2  0.6]\n",
            " [-0.2  0.4 -0.2]]\n"
          ]
        }
      ]
    },
    {
      "cell_type": "markdown",
      "metadata": {
        "id": "sd7o7q9o7smi"
      },
      "source": [
        "###Question 5"
      ]
    },
    {
      "cell_type": "code",
      "metadata": {
        "colab": {
          "base_uri": "https://localhost:8080/"
        },
        "id": "DT4_KmX97vFL",
        "outputId": "4d6e513c-e3b1-49c4-8421-f22f11e76864"
      },
      "source": [
        "#Matrix 3x3\n",
        "C = np.array ([[1,2,3],\n",
        "               [2,3,3],\n",
        "               [3,4,-2]])\n",
        "\n",
        "#To get the determinant of the matrix\n",
        "detC = np.linalg.det(C)\n",
        "\n",
        "print(\"The determinant: \\n\")\n",
        "print(int(detC))"
      ],
      "execution_count": 18,
      "outputs": [
        {
          "output_type": "stream",
          "name": "stdout",
          "text": [
            "The determinant: \n",
            "\n",
            "5\n"
          ]
        }
      ]
    },
    {
      "cell_type": "markdown",
      "metadata": {
        "id": "F0Qlf-D37va3"
      },
      "source": [
        "###Question 6"
      ]
    },
    {
      "cell_type": "code",
      "metadata": {
        "colab": {
          "base_uri": "https://localhost:8080/"
        },
        "id": "Ysl3QOe67wKg",
        "outputId": "6a4c332d-eba2-4178-d141-90743f92db8c"
      },
      "source": [
        "#The constant variables in matrix\n",
        "E = np.array([[5,4,1],\n",
        "              [10,9,4],\n",
        "              [10,13,15]])\n",
        "\n",
        "#The equal variables in matrix\n",
        "C = np.array([[[3.4],\n",
        "               [8.8],\n",
        "               [19.2]]])\n",
        "\n",
        "#To determine the roots of the linear equations\n",
        "roots = np.linalg.inv(E) @ C\n",
        "\n",
        "print(\"The roots of linear equation: \\n\")\n",
        "print(roots)"
      ],
      "execution_count": 22,
      "outputs": [
        {
          "output_type": "stream",
          "name": "stdout",
          "text": [
            "The roots of linear equation: \n",
            "\n",
            "[[[0.2]\n",
            "  [0.4]\n",
            "  [0.8]]]\n"
          ]
        }
      ]
    }
  ]
}